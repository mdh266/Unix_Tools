{
 "cells": [
  {
   "cell_type": "markdown",
   "metadata": {},
   "source": [
    "# Unix Tools For Data Science\n",
    "-------------------\n",
    "\n",
    "\n",
    "## Table of contents\n",
    "__[1. Introduction](#Introduction)__\n",
    "\n",
    "__[2. Basic Commands](#Basics)__\n",
    "\n",
    "__[3. Files And Vim](#Files)__\n",
    "\n",
    "__[4. Working Over A Network](#Network)__\n",
    "\n",
    "__[5. Working With Git](#Git)__\n",
    "\n",
    "__[6. More](#Git)__\n",
    "\n",
    "\n",
    "## Introduction <a class=\"anchor\" id=\"Introduction\"></a>\n",
    "-------------------\n",
    "\n",
    "Knowing Unix tools and Bash commands are not the sexiest part of data science and is often the most overlooked skillset.  During my time as a Ph.D. student in Computational Science/Applied Mathematics I picked up a bunch of unix commands that were life savers and I'm going to go over a few here. Learning these skills is definitely can seem a little bit boring, but I cannot emphasize how useful they are. Setting up my unix environment and linking various libraries was one of the most frustrating parts of graduate school, but I believe I am much more productive as a data scientist having learned these valuable lessons.  \n",
    "\n",
    "\n",
    "\n",
    "Most of the commands and concepts I will be going over don't require any special libraries and when they do I'll provide links to them.  Infact most of the unix commands can be run from <a href=\"http://jupyter.org/\">Jupyter Notebook</a>.  When they don't I will run them from the <a href=\"https://en.wikipedia.org/wiki/Terminal_(macOS)\">Terminal</a> which is the MacOS version of the <a href=\"https://en.wikipedia.org/wiki/Unix_shell\">Unix/Linux shell</a>.\n",
    "\n",
    "\n",
    "## Basic Commands <a class=\"anchor\" id=\"Basics\"></a>\n",
    "-------------------\n",
    "\n",
    "The first command to learn is,\n",
    "\n",
    "- **<code> ls </code>**\n",
    "\n",
    "\n",
    "<code>ls</code> lists all the files in the current *directory* (this is just a fancier way of saying \"folder\"):"
   ]
  },
  {
   "cell_type": "code",
   "execution_count": 45,
   "metadata": {
    "collapsed": false
   },
   "outputs": [
    {
     "name": "stdout",
     "output_type": "stream",
     "text": [
      "\u001b[34mDirec1\u001b[m\u001b[m/           Unix_Tools.ipynb  file1\r\n"
     ]
    }
   ],
   "source": [
    "ls"
   ]
  },
  {
   "cell_type": "markdown",
   "metadata": {},
   "source": [
    "We see that there is a directory called <code>Direc1/</code> (the forward slash after the name gives away that it is a directory) and two files: this notebook (<code>Unix_Tools.ipynb</code>) as well as a file called <code>file1</code>. We can view the \"hidden files\" (this will make more sense later) using a **<code>/-a</code>** after the  <code>ls</code>:"
   ]
  },
  {
   "cell_type": "code",
   "execution_count": 46,
   "metadata": {
    "collapsed": false
   },
   "outputs": [
    {
     "name": "stdout",
     "output_type": "stream",
     "text": [
      "\u001b[34m.\u001b[m\u001b[m/                  \u001b[34m.ipynb_checkpoints\u001b[m\u001b[m/ Unix_Tools.ipynb\r\n",
      "\u001b[34m..\u001b[m\u001b[m/                 \u001b[34mDirec1\u001b[m\u001b[m/             file1\r\n"
     ]
    }
   ],
   "source": [
    "ls -a"
   ]
  },
  {
   "cell_type": "markdown",
   "metadata": {},
   "source": [
    "The </code>.ipynb_checkpoints/</code> is a \"hidden directory.\"  The <code>./</code> stands for the current directory (we could also use <code>ls .</code> instead of **<code>ls</code>**). And the <code>../</code> stands for the parent directory (the directory containing this directory). \n",
    "\n",
    "We can get more information on the files and directories using the <code>ls -al</code> command (this will give us information on all the files, if we wanted just non hidden ones we would use <code>ls -al</code>): "
   ]
  },
  {
   "cell_type": "code",
   "execution_count": 47,
   "metadata": {
    "collapsed": false
   },
   "outputs": [
    {
     "name": "stdout",
     "output_type": "stream",
     "text": [
      "total 24\r\n",
      "drwxr-xr-x   6 Mike  staff   204 Jul 16 20:54 \u001b[34m.\u001b[m\u001b[m/\r\n",
      "drwxr-xr-x  14 Mike  staff   476 Jul 16 14:30 \u001b[34m..\u001b[m\u001b[m/\r\n",
      "drwxr-xr-x   3 Mike  staff   102 Jul 16 14:03 \u001b[34m.ipynb_checkpoints\u001b[m\u001b[m/\r\n",
      "drwxr-xr-x   4 Mike  staff   136 Jul 16 20:45 \u001b[34mDirec1\u001b[m\u001b[m/\r\n",
      "-rw-r--r--   1 Mike  staff  9944 Jul 16 20:52 Unix_Tools.ipynb\r\n",
      "-rw-r--r--   1 Mike  staff     0 Jul 16 20:54 file1\r\n"
     ]
    }
   ],
   "source": [
    "ls -al"
   ]
  },
  {
   "cell_type": "markdown",
   "metadata": {},
   "source": [
    "Each row now corresponds to the a file or directory and we have information on the permisions for the file/directory, number of links, owner name, group name, number of bytes in the file, abbreviated month, day-of-month file was last modified, hour file last modified, minute file last modified, and the pathname/file name. \n",
    "\n",
    " We can also view the path to the current directory using,\n",
    "\n",
    "- ** <code> pwd </code> **"
   ]
  },
  {
   "cell_type": "code",
   "execution_count": 22,
   "metadata": {
    "collapsed": false
   },
   "outputs": [
    {
     "data": {
      "text/plain": [
       "u'/Users/Mike/Documents/DS_Projects/Unix_Tools'"
      ]
     },
     "execution_count": 22,
     "metadata": {},
     "output_type": "execute_result"
    }
   ],
   "source": [
    "pwd"
   ]
  },
  {
   "cell_type": "markdown",
   "metadata": {},
   "source": [
    "You can see that in jupyter notebooks this is returned as unicode. We can also use <code>ls</code> to view the contents of other directories than our current one.  We can see the contents of <code>Direc1/</code> by typing:"
   ]
  },
  {
   "cell_type": "code",
   "execution_count": 23,
   "metadata": {
    "collapsed": false
   },
   "outputs": [],
   "source": [
    "ls Direc1"
   ]
  },
  {
   "cell_type": "markdown",
   "metadata": {},
   "source": [
    "Nothing happened here because that directory is emtpy.  We can move the file <code>file1</code> into <code>Direc1/</code> by using the command\n",
    "\n",
    "- ** <code> mv </code> **"
   ]
  },
  {
   "cell_type": "code",
   "execution_count": 24,
   "metadata": {
    "collapsed": false
   },
   "outputs": [],
   "source": [
    "mv file1 Direc1/"
   ]
  },
  {
   "cell_type": "markdown",
   "metadata": {},
   "source": [
    "We can now see the contents of <code>Direc1</code> again to see that the file has moved there:"
   ]
  },
  {
   "cell_type": "code",
   "execution_count": 31,
   "metadata": {
    "collapsed": false
   },
   "outputs": [
    {
     "name": "stdout",
     "output_type": "stream",
     "text": [
      "ls: Direc/: No such file or directory\r\n"
     ]
    }
   ],
   "source": [
    "ls Direc/"
   ]
  },
  {
   "cell_type": "markdown",
   "metadata": {},
   "source": [
    "We can then go into to <code>Direc1</code> by using,\n",
    "\n",
    "- **<code>cd</code>** \n",
    "\n",
    "which stands for \"change directory,\""
   ]
  },
  {
   "cell_type": "code",
   "execution_count": 32,
   "metadata": {
    "collapsed": false
   },
   "outputs": [
    {
     "name": "stdout",
     "output_type": "stream",
     "text": [
      "/Users/Mike/Documents/DS_Projects/Unix_Tools/Direc1\n"
     ]
    }
   ],
   "source": [
    "cd Direc1/"
   ]
  },
  {
   "cell_type": "markdown",
   "metadata": {},
   "source": [
    "We can also use <code>mv</code> to *change the name of a file or directory*:"
   ]
  },
  {
   "cell_type": "code",
   "execution_count": 34,
   "metadata": {
    "collapsed": false
   },
   "outputs": [],
   "source": [
    "mv file1 file2"
   ]
  },
  {
   "cell_type": "code",
   "execution_count": 37,
   "metadata": {
    "collapsed": false
   },
   "outputs": [
    {
     "name": "stdout",
     "output_type": "stream",
     "text": [
      "file2\r\n"
     ]
    }
   ],
   "source": [
    "ls "
   ]
  },
  {
   "cell_type": "markdown",
   "metadata": {},
   "source": [
    "We can copy the contents of <code>file2</code> into a new file, <code>file1</code> using the command,\n",
    "\n",
    "- **<code>cp</code>**"
   ]
  },
  {
   "cell_type": "code",
   "execution_count": 38,
   "metadata": {
    "collapsed": true
   },
   "outputs": [],
   "source": [
    "cp file2 file1"
   ]
  },
  {
   "cell_type": "markdown",
   "metadata": {},
   "source": [
    "We can can then go back to the the parent (original) directory using,"
   ]
  },
  {
   "cell_type": "code",
   "execution_count": 48,
   "metadata": {
    "collapsed": false
   },
   "outputs": [
    {
     "name": "stdout",
     "output_type": "stream",
     "text": [
      "/Users/Mike/Documents/DS_Projects\n"
     ]
    }
   ],
   "source": [
    "cd .."
   ]
  },
  {
   "cell_type": "markdown",
   "metadata": {},
   "source": [
    "We can the process that are running in this directory,\n",
    "\n",
    "- **</code>ps</code>**\n",
    "\n",
    "This one we will have to use in the terminal,\n",
    "\n",
    "![](images/ps.png)\n",
    "\n",
    "\n",
    "The <code>PID</code> is the process id and is important because we can use it to help us <a> href=\"https://en.wikipedia.org/wiki/Kill_(command)\">kill</a> the *process* or *command* if we need to. The <code>Time</code> is how long the process has been running and <code>CMD</code> is the name of the *command* or process that is running.  The <code>TTY</code> isn't something that I have ever have had to use.\n",
    "\n",
    "We can also use the command,\n",
    "\n",
    "- **<code>top</code>**\n",
    "\n",
    "To see all the processes running on our computer, the results in from my terminal are below,\n",
    "\n",
    "![](images/top.png)\n",
    "\n",
    "As you can see theres a lot more information that is provided by <code>top</code> including the ammount of memory each process is using.  One tool I liked using in graduate school is called, \n",
    "\n",
    "- **<a href=\"http://hisham.hm/htop/\">htop</a>**\n",
    "\n",
    "which provides an interactive version of of <code>top</code>.  I liked it because when writing multi-threaded applications you can see directly how much work each core/thread is using (you can get a similar effect using  <code>top</code> by pressing <code>1</code> while <code>top</code> is running.  An example on my computer of the results of <code>htop</code> are shown below,\n",
    "\n",
    "![](images/htop.png)\n",
    "\n",
    "\n",
    "The last two basic commands I'll mention are\n",
    "\n",
    "- **<code>history</code> **\n",
    "\n",
    "which shows use a list of all the commands you have used recently.  As well as,\n",
    "\n",
    "\n",
    "- ** <a href=\"https://en.wikipedia.org/wiki/Man_page\">man</a> **\n",
    "\n",
    "which can be used to show the manual page of specific unix commands. \n",
    "\n",
    "Now that we have on the basics of unix commands we can move on to dealing with directories and files more concretely."
   ]
  },
  {
   "cell_type": "markdown",
   "metadata": {},
   "source": [
    "## Files And Vim<a class=\"anchor\" id=\"Files\"></a>\n",
    "-------------------\n",
    "\n",
    "### Working with Files:"
   ]
  },
  {
   "cell_type": "markdown",
   "metadata": {
    "collapsed": true
   },
   "source": [
    "We can create directories using the,\n",
    "\n",
    "- **<code>mkdir</code> **\n",
    "\n",
    "command.  Say we want to create a new directory called <code>Direc2/</code>, we can do this by the command,"
   ]
  },
  {
   "cell_type": "code",
   "execution_count": 6,
   "metadata": {
    "collapsed": false
   },
   "outputs": [],
   "source": [
    "mkdir Direc2/"
   ]
  },
  {
   "cell_type": "code",
   "execution_count": 3,
   "metadata": {
    "collapsed": false
   },
   "outputs": [
    {
     "name": "stdout",
     "output_type": "stream",
     "text": [
      "\u001b[34mDirec1\u001b[m\u001b[m/           README.md         file1\r\n",
      "\u001b[34mDirec2\u001b[m\u001b[m/           Unix_Tools.ipynb  \u001b[34mimages\u001b[m\u001b[m/\r\n"
     ]
    }
   ],
   "source": [
    "ls"
   ]
  },
  {
   "cell_type": "markdown",
   "metadata": {},
   "source": [
    "We can remove empty directories by using,\n",
    "\n",
    "- **<code>rmdir</code>**\n",
    "\n",
    "as we see below,"
   ]
  },
  {
   "cell_type": "code",
   "execution_count": 8,
   "metadata": {
    "collapsed": false
   },
   "outputs": [],
   "source": [
    "rmdir Direc2/"
   ]
  },
  {
   "cell_type": "code",
   "execution_count": 9,
   "metadata": {
    "collapsed": false
   },
   "outputs": [
    {
     "name": "stdout",
     "output_type": "stream",
     "text": [
      "\u001b[34mDirec1\u001b[m\u001b[m/           Unix_Tools.ipynb  \u001b[34mimages\u001b[m\u001b[m/\r\n",
      "README.md         file1\r\n"
     ]
    }
   ],
   "source": [
    "ls"
   ]
  },
  {
   "cell_type": "markdown",
   "metadata": {},
   "source": [
    "Next let's go into directory <code>Direc1/</code> and create a file."
   ]
  },
  {
   "cell_type": "code",
   "execution_count": 10,
   "metadata": {
    "collapsed": false
   },
   "outputs": [
    {
     "name": "stdout",
     "output_type": "stream",
     "text": [
      "/Users/Mike/Documents/DS_Projects/Unix_Tools/Direc1\n"
     ]
    }
   ],
   "source": [
    "cd Direc1/"
   ]
  },
  {
   "cell_type": "code",
   "execution_count": 11,
   "metadata": {
    "collapsed": false
   },
   "outputs": [
    {
     "name": "stdout",
     "output_type": "stream",
     "text": [
      "file1  file2\r\n"
     ]
    }
   ],
   "source": [
    "ls ."
   ]
  },
  {
   "cell_type": "markdown",
   "metadata": {},
   "source": [
    "We can make an empty by using the command,\n",
    "\n",
    "- **<code>touch</code>**\n",
    "\n",
    "Let's make a file called <code>file3.txt</code> using the terminal,\n",
    "\n",
    "![](images/touch.png)"
   ]
  },
  {
   "cell_type": "markdown",
   "metadata": {},
   "source": [
    "We can delete files by using the command,\n",
    "\n",
    "- **<code>rm</code>** \n",
    "\n",
    "Let's delete <code>file3.txt</code> using jupyter notebooks now:"
   ]
  },
  {
   "cell_type": "code",
   "execution_count": 16,
   "metadata": {
    "collapsed": false
   },
   "outputs": [
    {
     "name": "stdout",
     "output_type": "stream",
     "text": [
      "file1      file2      file3.txt\r\n"
     ]
    }
   ],
   "source": [
    "ls"
   ]
  },
  {
   "cell_type": "code",
   "execution_count": 17,
   "metadata": {
    "collapsed": true
   },
   "outputs": [],
   "source": [
    "rm file3.txt"
   ]
  },
  {
   "cell_type": "code",
   "execution_count": 18,
   "metadata": {
    "collapsed": false
   },
   "outputs": [
    {
     "name": "stdout",
     "output_type": "stream",
     "text": [
      "file1  file2\r\n"
     ]
    }
   ],
   "source": [
    "ls"
   ]
  },
  {
   "cell_type": "markdown",
   "metadata": {},
   "source": [
    "You can do multiple files by just having a space between the files after <code>rm</code>. We can view the contents a file using the command,\n",
    "\n",
    "- **<code>less</code> **\n",
    "\n",
    "Let's take a look at the contents of <code>file1</code>:"
   ]
  },
  {
   "cell_type": "code",
   "execution_count": 20,
   "metadata": {
    "collapsed": true
   },
   "outputs": [],
   "source": [
    "less file1"
   ]
  },
  {
   "cell_type": "markdown",
   "metadata": {},
   "source": [
    "The contents of typing this into the terminal are seen below:\n",
    "\n",
    "![](images/less.png)\n",
    "\n",
    "We can scroll through the lines of the file by pressing the <code>enter</code> button.  We can exit the file by typing <code>q</code>.\n",
    "\n",
    "Finally, let's show how to delete all a non-empty file."
   ]
  },
  {
   "cell_type": "code",
   "execution_count": 23,
   "metadata": {
    "collapsed": false
   },
   "outputs": [
    {
     "name": "stdout",
     "output_type": "stream",
     "text": [
      "/Users/Mike/Documents/DS_Projects/Unix_Tools\n"
     ]
    }
   ],
   "source": [
    "cd .."
   ]
  },
  {
   "cell_type": "markdown",
   "metadata": {},
   "source": [
    "If we just try to delete <code>Direc1/</code>, we'll get a warning and it won't delete the directory,"
   ]
  },
  {
   "cell_type": "code",
   "execution_count": 25,
   "metadata": {
    "collapsed": false
   },
   "outputs": [
    {
     "name": "stdout",
     "output_type": "stream",
     "text": [
      "rmdir: Direc1/: Directory not empty\r\n"
     ]
    }
   ],
   "source": [
    "rmdir Direc1/"
   ]
  },
  {
   "cell_type": "code",
   "execution_count": 26,
   "metadata": {
    "collapsed": false
   },
   "outputs": [
    {
     "name": "stdout",
     "output_type": "stream",
     "text": [
      "\u001b[34mDirec1\u001b[m\u001b[m/           Unix_Tools.ipynb  \u001b[34mimages\u001b[m\u001b[m/\r\n",
      "README.md         file1\r\n"
     ]
    }
   ],
   "source": [
    "ls"
   ]
  },
  {
   "cell_type": "markdown",
   "metadata": {},
   "source": [
    "We can use the command,\n",
    "\n",
    "- **<code>rm -rf</code>**\n",
    "\n",
    "To *recursively delete all the contents of the directory and the directory itself*, this is what the <code>-r</code> does after the <code>rm</code> (we could also use <code>cp -r direc1 direc2</code> to copy all the contents of <code>direct1</code> to <code>direct2</code>).  The <code>-f</code> forces command to take place.  Let's try it:\n"
   ]
  },
  {
   "cell_type": "code",
   "execution_count": 27,
   "metadata": {
    "collapsed": true
   },
   "outputs": [],
   "source": [
    "rm -rf Direc1/"
   ]
  },
  {
   "cell_type": "code",
   "execution_count": 28,
   "metadata": {
    "collapsed": false
   },
   "outputs": [
    {
     "name": "stdout",
     "output_type": "stream",
     "text": [
      "README.md         Unix_Tools.ipynb  file1             \u001b[34mimages\u001b[m\u001b[m/\r\n"
     ]
    }
   ],
   "source": [
    "ls"
   ]
  },
  {
   "cell_type": "markdown",
   "metadata": {},
   "source": [
    "It worked!  Now that we've got that under our belt lets see how we can edit files.  \n",
    "\n",
    "## Vim\n",
    "Vim (or <a href=\"https://en.wikipedia.org/wiki/Vi\">Vi</a> as it is sometimes known as) is a file editor that is on every Unix/Linux and Mac computer by default. There is a historical debate between developers who perfer Vi vs. Emacs vs. some newer editor.  I think it's is important to know the basics of Vim, solely because on you may have to make a few changes on a machine where there are no other editors you know how or can use, except vi.\n",
    "\n",
    "If you type,\n",
    "\n",
    "- **<code>vi</code>**\n",
    "\n",
    "\n",
    "If you do this yourself, you can see that we have <code>no name</code> displayed at the bottom of the screen, this means that we are working with an unnammed file.  To quit vi without saving the file (that we're editing) we first press the <code>esp</code> key followed by a colon (:) and then use,\n",
    "\n",
    "- **<code>q!</code>**\n",
    "\n",
    "We can create a file with a specific name and open it using vi with the following one line command:\n",
    "\n",
    "- **<code>vi hello.py</code>**\n",
    "\n",
    "This creates a file called <code>hello.py</code> as seen below:\n",
    "\n",
    "![](images/hello.py1.png)\n",
    "\n"
   ]
  },
  {
   "cell_type": "markdown",
   "metadata": {},
   "source": [
    "We can edit the file by typing \n",
    "\n",
    "- ** <code> i </code>**\n",
    "\n",
    "for insert.  We do this and write the following,\n",
    "\n",
    "\n",
    "We can save using the command,\n",
    "\n",
    "- **<code> w </code> **\n",
    "\n",
    "which stands for *write(. We save ou edits by typing <code>esp</code> then <code>:w</code> and hit enter:\n",
    "\n",
    "![](images/vi_saving.png)\n",
    "\n",
    "We can then quit by using,\n",
    "\n",
    "- **<code> q </code> **\n",
    "\n",
    "by again first using the <code>esp</code> then <code>:q</code> (one could also save and quit by using <code>esp</code> then <code>:wq</code>).\n",
    "\n",
    "We then can run this command by,\n",
    "\n",
    "    python hello.py\n",
    "    \n",
    "into the terminal, see the results below:\n",
    "\n",
    "![](images/results.png)\n",
    "\n",
    "Now, let's go back and edit our <code>hello.py</code> file by adding the following on top:\n",
    "\n",
    "![](images/hello.py2.png)\n",
    "\n",
    "And then exit and type <code>ls -al </code> into our terminal we will see the following for <code>hello.py</code>:\n",
    "\n",
    "![](images/permissions1.png)\n",
    "\n",
    "You can see the <code>-rw-r--r--</code>.  The <code>r</code> stands that fact we have for *read* permissions to the file, the <code>w</code> stands for the fact we have *write* permissions to the file, and if we had a <code>x</code> that would mean we could *excute* the file. We can give ourselves the ability to execute the file using the command\n",
    "\n",
    "-- **<code>chmod</code>**\n",
    "\n",
    "\n",
    "We'll simply give anyone access to read, write and execute this file by typing,\n",
    "\n",
    "    chmod 777 hello.py\n",
    "    \n",
    "into the terminmal.  Now if you type <code>ls -al </code> you can see we have the ability to execute the file as well:\n",
    "\n",
    "![](images/permissions2.png)\n",
    "\n",
    "For more on chmod, see <a hre=\"https://en.wikipedia.org/wiki/Chmod\">here</a>. We can execute the file by typing,\n",
    "\n",
    "    ./hello.py\n",
    "\n",
    "The results are shown below:\n",
    "\n",
    "![](images/results2.png)\n",
    "\n",
    "Note that if we did not add the line\n",
    "\n",
    "    #!/usr/bin/env python\n",
    "    \n",
    "on to the top of the <code>hello.py</code> file it wouldn't be able to call the execute, to understand why this is so check out this <a href=\"https://stackoverflow.com/questions/2429511/why-do-people-write-usr-bin-env-python-on-the-first-line-of-a-python-script\">post</a>.\n",
    "\n",
    "There are tons more commands you can use in Vi (for more see <a href=\"https://docs.oracle.com/cd/E19683-01/806-7612/6jgfmsvqn/index.html\">here</a>, but if you just looking to quickly open and edit a file this is pretty much all you need to know.  One reason why you would use Vi over another editor is that you may be working over a network and not have the ability to use any advance editors like <a href=\"https://www.sublimetext.com/3\">sublime</a> which require a graphical interface.  This point segways directly into the next topic which is working over a network."
   ]
  },
  {
   "cell_type": "code",
   "execution_count": 29,
   "metadata": {
    "collapsed": false
   },
   "outputs": [
    {
     "ename": "SyntaxError",
     "evalue": "invalid syntax (<ipython-input-29-be1255b533b2>, line 1)",
     "output_type": "error",
     "traceback": [
      "\u001b[0;36m  File \u001b[0;32m\"<ipython-input-29-be1255b533b2>\"\u001b[0;36m, line \u001b[0;32m1\u001b[0m\n\u001b[0;31m    chmod 777 hello.py\u001b[0m\n\u001b[0m            ^\u001b[0m\n\u001b[0;31mSyntaxError\u001b[0m\u001b[0;31m:\u001b[0m invalid syntax\n"
     ]
    }
   ],
   "source": []
  },
  {
   "cell_type": "code",
   "execution_count": null,
   "metadata": {
    "collapsed": true
   },
   "outputs": [],
   "source": []
  },
  {
   "cell_type": "code",
   "execution_count": null,
   "metadata": {
    "collapsed": true
   },
   "outputs": [],
   "source": []
  },
  {
   "cell_type": "code",
   "execution_count": null,
   "metadata": {
    "collapsed": true
   },
   "outputs": [],
   "source": []
  },
  {
   "cell_type": "markdown",
   "metadata": {},
   "source": [
    "## Working Over A Network <a class=\"anchor\" id=\"Network\"></a>\n",
    "-------------------\n",
    "\n",
    "ssh\n",
    "tar\n",
    "sftp\n",
    "scp\n",
    "\n",
    "\n"
   ]
  },
  {
   "cell_type": "markdown",
   "metadata": {},
   "source": [
    "## Working With Git <a class=\"anchor\" id=\"Git\"></a>\n",
    "-------------------"
   ]
  },
  {
   "cell_type": "markdown",
   "metadata": {},
   "source": [
    "## Summary Of Commands and Concepts"
   ]
  },
  {
   "cell_type": "markdown",
   "metadata": {},
   "source": [
    "## More <a class=\"anchor\" id=\"More\"></a>\n",
    "Brew, Anaconda\n",
    "Bash Scripts\n",
    "Environement Variables\n",
    "Paths\n",
    "bashrc (.profile)\n",
    "CMake\n",
    "man\n",
    "help"
   ]
  },
  {
   "cell_type": "code",
   "execution_count": null,
   "metadata": {
    "collapsed": true
   },
   "outputs": [],
   "source": []
  }
 ],
 "metadata": {
  "anaconda-cloud": {},
  "kernelspec": {
   "display_name": "Python [conda root]",
   "language": "python",
   "name": "conda-root-py"
  },
  "language_info": {
   "codemirror_mode": {
    "name": "ipython",
    "version": 2
   },
   "file_extension": ".py",
   "mimetype": "text/x-python",
   "name": "python",
   "nbconvert_exporter": "python",
   "pygments_lexer": "ipython2",
   "version": "2.7.13"
  }
 },
 "nbformat": 4,
 "nbformat_minor": 1
}
