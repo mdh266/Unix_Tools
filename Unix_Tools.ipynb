{
 "cells": [
  {
   "cell_type": "markdown",
   "metadata": {},
   "source": [
    "# Unix Tools For Data Science\n",
    "-------------------\n",
    "\n",
    "\n",
    "## Table of contents\n",
    "__[1. Introduction](#Introduction)__\n",
    "\n",
    "__[2. Basic Commands](#Basics)__\n",
    "\n",
    "__[3. Files (And More Commands)](#Files)__\n",
    "\n",
    "__[4. Vim (And Why You Sometimes Need It)](#Vim)__\n",
    "\n",
    "__[5. Working Over A Network](#Network)__\n",
    "\n",
    "__[6. Working With Git](#Git)__\n",
    "\n",
    "__[6. More](#Git)__\n",
    "\n",
    "\n",
    "## Introduction <a class=\"anchor\" id=\"Introduction\"></a>\n",
    "-------------------\n",
    "\n",
    "Knowing Unix tools and Bash commands are not the sexiest part of data science and is often the most overlooked skillset.  During my time as a Ph.D. student in Computational Science/Applied Mathematics I picked up a bunch of unix commands that were life savers and I'm going to go over a few here. Learning these skills is definitely can seem a little bit boring, but I cannot emphasize how useful they are. Setting up my unix environment and linking various libraries was one of the most frustrating parts of graduate school, but I believe I am much more productive as a data scientist having learned these valuable lessons.  \n",
    "\n",
    "\n",
    "\n",
    "Most of the commands and concepts I will be going over don't require any special libraries and when they do I'll provide links to them.  Infact most of the unix commands can be run from <a href=\"http://jupyter.org/\">Jupyter Notebook</a>.  When they don't I will run them from the <a href=\"https://en.wikipedia.org/wiki/Terminal_(macOS)\">Terminal</a> which is the MacOS version of the <a href=\"https://en.wikipedia.org/wiki/Unix_shell\">Unix/Linux shell</a>.\n",
    "\n",
    "\n",
    "## Basic Commands <a class=\"anchor\" id=\"Basics\"></a>\n",
    "-------------------\n",
    "\n",
    "man\n",
    "\n",
    "history\n",
    "\n",
    "\n",
    "- **<code> ls </code>**\n",
    "\n",
    "The first command to learn is <code>ls</code> this lists all the files in the current *directory* (this is just a fancier way of saying \"folder\"):"
   ]
  },
  {
   "cell_type": "code",
   "execution_count": 45,
   "metadata": {
    "collapsed": false
   },
   "outputs": [
    {
     "name": "stdout",
     "output_type": "stream",
     "text": [
      "\u001b[34mDirec1\u001b[m\u001b[m/           Unix_Tools.ipynb  file1\r\n"
     ]
    }
   ],
   "source": [
    "ls"
   ]
  },
  {
   "cell_type": "markdown",
   "metadata": {},
   "source": [
    "We see that there is a directory called <code>Direc1/</code> (the forward slash after the name gives away that it is a directory) and two files: this notebook (<code>Unix_Tools.ipynb</code>) as well as a file called <code>file1</code>. We can view the \"hidden files\" (this will make more sense later) using a **<code>/-a</code>** after the  <code>ls</code>:"
   ]
  },
  {
   "cell_type": "code",
   "execution_count": 46,
   "metadata": {
    "collapsed": false
   },
   "outputs": [
    {
     "name": "stdout",
     "output_type": "stream",
     "text": [
      "\u001b[34m.\u001b[m\u001b[m/                  \u001b[34m.ipynb_checkpoints\u001b[m\u001b[m/ Unix_Tools.ipynb\r\n",
      "\u001b[34m..\u001b[m\u001b[m/                 \u001b[34mDirec1\u001b[m\u001b[m/             file1\r\n"
     ]
    }
   ],
   "source": [
    "ls -a"
   ]
  },
  {
   "cell_type": "markdown",
   "metadata": {},
   "source": [
    "The </code>.ipynb_checkpoints/</code> is a \"hidden directory.\"  The <code>./</code> stands for the current directory (we could also use <code>ls .</code> instead of **<code>ls</code>**). And the <code>../</code> stands for the parent directory (the directory containing this directory). \n",
    "\n",
    "We can get more information on the files and directories using the <code>ls -al</code> command (this will give us information on all the files, if we wanted just non hidden ones we would use <code>ls -al</code>): "
   ]
  },
  {
   "cell_type": "code",
   "execution_count": 47,
   "metadata": {
    "collapsed": false
   },
   "outputs": [
    {
     "name": "stdout",
     "output_type": "stream",
     "text": [
      "total 24\r\n",
      "drwxr-xr-x   6 Mike  staff   204 Jul 16 20:54 \u001b[34m.\u001b[m\u001b[m/\r\n",
      "drwxr-xr-x  14 Mike  staff   476 Jul 16 14:30 \u001b[34m..\u001b[m\u001b[m/\r\n",
      "drwxr-xr-x   3 Mike  staff   102 Jul 16 14:03 \u001b[34m.ipynb_checkpoints\u001b[m\u001b[m/\r\n",
      "drwxr-xr-x   4 Mike  staff   136 Jul 16 20:45 \u001b[34mDirec1\u001b[m\u001b[m/\r\n",
      "-rw-r--r--   1 Mike  staff  9944 Jul 16 20:52 Unix_Tools.ipynb\r\n",
      "-rw-r--r--   1 Mike  staff     0 Jul 16 20:54 file1\r\n"
     ]
    }
   ],
   "source": [
    "ls -al"
   ]
  },
  {
   "cell_type": "markdown",
   "metadata": {},
   "source": [
    "Each row now corresponds to the a file or directory and we have information on the permisions for the file/directory, number of links, owner name, group name, number of bytes in the file, abbreviated month, day-of-month file was last modified, hour file last modified, minute file last modified, and the pathname/file name. \n",
    "\n",
    " We can also view the path to the current directory using,\n",
    "\n",
    "- ** <code> pwd </code> **"
   ]
  },
  {
   "cell_type": "code",
   "execution_count": 22,
   "metadata": {
    "collapsed": false
   },
   "outputs": [
    {
     "data": {
      "text/plain": [
       "u'/Users/Mike/Documents/DS_Projects/Unix_Tools'"
      ]
     },
     "execution_count": 22,
     "metadata": {},
     "output_type": "execute_result"
    }
   ],
   "source": [
    "pwd"
   ]
  },
  {
   "cell_type": "markdown",
   "metadata": {},
   "source": [
    "You can see that in jupyter notebooks this is returned as unicode. We can also use <code>ls</code> to view the contents of other directories than our current one.  We can see the contents of <code>Direc1/</code> by typing:"
   ]
  },
  {
   "cell_type": "code",
   "execution_count": 23,
   "metadata": {
    "collapsed": false
   },
   "outputs": [],
   "source": [
    "ls Direc1"
   ]
  },
  {
   "cell_type": "markdown",
   "metadata": {},
   "source": [
    "Nothing happened here because that directory is emtpy.  We can move the file <code>file1</code> into <code>Direc1/</code> by using the command\n",
    "\n",
    "- ** <code> mv </code> **"
   ]
  },
  {
   "cell_type": "code",
   "execution_count": 24,
   "metadata": {
    "collapsed": false
   },
   "outputs": [],
   "source": [
    "mv file1 Direc1/"
   ]
  },
  {
   "cell_type": "markdown",
   "metadata": {},
   "source": [
    "We can now see the contents of <code>Direc1</code> again to see that the file has moved there:"
   ]
  },
  {
   "cell_type": "code",
   "execution_count": 31,
   "metadata": {
    "collapsed": false
   },
   "outputs": [
    {
     "name": "stdout",
     "output_type": "stream",
     "text": [
      "ls: Direc/: No such file or directory\r\n"
     ]
    }
   ],
   "source": [
    "ls Direc/"
   ]
  },
  {
   "cell_type": "markdown",
   "metadata": {},
   "source": [
    "We can then go into to <code>Direc1</code> by using,\n",
    "\n",
    "- **<code>cd</code>** \n",
    "\n",
    "which stands for \"change directory,\""
   ]
  },
  {
   "cell_type": "code",
   "execution_count": 32,
   "metadata": {
    "collapsed": false
   },
   "outputs": [
    {
     "name": "stdout",
     "output_type": "stream",
     "text": [
      "/Users/Mike/Documents/DS_Projects/Unix_Tools/Direc1\n"
     ]
    }
   ],
   "source": [
    "cd Direc1/"
   ]
  },
  {
   "cell_type": "markdown",
   "metadata": {},
   "source": [
    "We can also use <code>mv</code> to *change the name of a file or directory*:"
   ]
  },
  {
   "cell_type": "code",
   "execution_count": 34,
   "metadata": {
    "collapsed": false
   },
   "outputs": [],
   "source": [
    "mv file1 file2"
   ]
  },
  {
   "cell_type": "code",
   "execution_count": 37,
   "metadata": {
    "collapsed": false
   },
   "outputs": [
    {
     "name": "stdout",
     "output_type": "stream",
     "text": [
      "file2\r\n"
     ]
    }
   ],
   "source": [
    "ls "
   ]
  },
  {
   "cell_type": "markdown",
   "metadata": {},
   "source": [
    "We can copy the contents of <code>file2</code> into a new file, <code>file1</code> using the command,\n",
    "\n",
    "- **<code>cp</code>**"
   ]
  },
  {
   "cell_type": "code",
   "execution_count": 38,
   "metadata": {
    "collapsed": true
   },
   "outputs": [],
   "source": [
    "cp file2 file1"
   ]
  },
  {
   "cell_type": "markdown",
   "metadata": {},
   "source": [
    "We can can then go back to the the parent (original) directory using,"
   ]
  },
  {
   "cell_type": "code",
   "execution_count": 48,
   "metadata": {
    "collapsed": false
   },
   "outputs": [
    {
     "name": "stdout",
     "output_type": "stream",
     "text": [
      "/Users/Mike/Documents/DS_Projects\n"
     ]
    }
   ],
   "source": [
    "cd .."
   ]
  },
  {
   "cell_type": "markdown",
   "metadata": {},
   "source": [
    "We can the process that are running in this directory,\n",
    "\n",
    "- **</code>ps</code>**\n",
    "\n",
    "This one we will have to use in the terminal,\n",
    "\n",
    "![](images/ps.png)\n",
    "\n",
    "\n",
    "The <code>PID</code> is the process id and is important because we can use it to help us <a> href=\"https://en.wikipedia.org/wiki/Kill_(command)\">kill</a> the *process* or *command* if we need to. The <code>Time</code> is how long the process has been running and <code>CMD</code> is the name of the *command* or process that is running.  The <code>TTY</code> isn't something that I have ever have had to use.\n",
    "\n",
    "We can also use the command,\n",
    "\n",
    "- **<code>top</code>**\n",
    "\n",
    "To see all the processes running on our computer, the results in from my terminal are below,\n",
    "\n",
    "![](images/top.png)\n",
    "\n",
    "As you can see theres a lot more information that is provided by <code>top</code> including the ammount of memory each process is using.  One tool I liked using in graduate school is called, \n",
    "\n",
    "- **<a href=\"http://hisham.hm/htop/\">htop</a>**\n",
    "\n",
    "which provides an interactive version of of <code>top</code>.  I liked it because when writing multi-threaded applications you can see directly how much work each core/thread is using (you can get a similar effect using  <code>top</code> by pressing <code>1</code> while <code>top</code> is running.  An example on my computer of the results of <code>htop</code> are shown below,\n",
    "\n",
    "![](images/htop.png)\n",
    "\n",
    "\n",
    "The last two basic commands I'll mention are\n",
    "\n",
    "- **<code>history</code> **\n",
    "\n",
    "which shows use a list of all the commands you have used recently.  As well as,\n",
    "\n",
    "\n",
    "- ** <a href=\"https://en.wikipedia.org/wiki/Man_page\">man</a> **\n",
    "\n",
    "which can be used to show the manual page of specific unix commands. \n",
    "\n",
    "Now that we have on the basics of unix commands we can move on to dealing with directories and files more concretely."
   ]
  },
  {
   "cell_type": "markdown",
   "metadata": {},
   "source": [
    "## Files (And More Comands) <a class=\"anchor\" id=\"Files\"></a>\n",
    "-------------------\n",
    "\n",
    "mkdir\n",
    "rm -rf\n",
    "touch\n",
    "rm\n",
    "less and (>)\n",
    "chmod\n"
   ]
  },
  {
   "cell_type": "code",
   "execution_count": null,
   "metadata": {
    "collapsed": true
   },
   "outputs": [],
   "source": []
  },
  {
   "cell_type": "code",
   "execution_count": null,
   "metadata": {
    "collapsed": true
   },
   "outputs": [],
   "source": []
  },
  {
   "cell_type": "markdown",
   "metadata": {},
   "source": [
    "## Vim (And Why You Sometimes Need It) <a class=\"anchor\" id=\"Vim\"></a>\n",
    "-------------------\n",
    "\n",
    "vi\n",
    "i\n",
    "?\n",
    "control-n\n",
    "w\n",
    "wq\n",
    "q!\n",
    "vimrc\n"
   ]
  },
  {
   "cell_type": "markdown",
   "metadata": {},
   "source": [
    "## Working Over A Network <a class=\"anchor\" id=\"Network\"></a>\n",
    "-------------------\n",
    "\n",
    "ssh\n",
    "tar\n",
    "sftp\n",
    "scp\n",
    "\n",
    "\n"
   ]
  },
  {
   "cell_type": "markdown",
   "metadata": {},
   "source": [
    "## Working With Git <a class=\"anchor\" id=\"Git\"></a>\n",
    "-------------------"
   ]
  },
  {
   "cell_type": "markdown",
   "metadata": {},
   "source": [
    "## More <a class=\"anchor\" id=\"More\"></a>\n",
    "Brew, Anaconda\n",
    "Bash Scripts\n",
    "Environement Variables\n",
    "Paths\n",
    "bashrc (.profile)\n",
    "CMake\n",
    "man\n",
    "help"
   ]
  },
  {
   "cell_type": "code",
   "execution_count": null,
   "metadata": {
    "collapsed": true
   },
   "outputs": [],
   "source": []
  }
 ],
 "metadata": {
  "anaconda-cloud": {},
  "kernelspec": {
   "display_name": "Python [conda root]",
   "language": "python",
   "name": "conda-root-py"
  },
  "language_info": {
   "codemirror_mode": {
    "name": "ipython",
    "version": 2
   },
   "file_extension": ".py",
   "mimetype": "text/x-python",
   "name": "python",
   "nbconvert_exporter": "python",
   "pygments_lexer": "ipython2",
   "version": "2.7.13"
  }
 },
 "nbformat": 4,
 "nbformat_minor": 1
}
